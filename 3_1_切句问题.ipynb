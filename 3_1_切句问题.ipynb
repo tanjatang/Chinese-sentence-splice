{
 "cells": [
  {
   "cell_type": "code",
   "execution_count": 5,
   "metadata": {
    "colab": {
     "base_uri": "https://localhost:8080/"
    },
    "id": "vaVq4ntkUxRH",
    "outputId": "35f98984-dfec-4498-d95e-639fb79b23d0"
   },
   "outputs": [
    {
     "name": "stdout",
     "output_type": "stream",
     "text": [
      "Requirement already satisfied: zhon in /usr/local/lib/python3.6/dist-packages (1.1.5)\n"
     ]
    }
   ],
   "source": [
    "import re\r\n",
    "!pip install zhon\r\n",
    "import zhon\r\n",
    "import zhon.hanzi as zh"
   ]
  },
  {
   "cell_type": "code",
   "execution_count": 32,
   "metadata": {
    "id": "mlNE0k4BVDBw"
   },
   "outputs": [],
   "source": [
    "def sentence_slice(spec_input,norm_input):\r\n",
    "    sent_list = []\r\n",
    "    for sent1 in spec_input:\r\n",
    "        if '......。。... ' in sent1:\r\n",
    "          spec_sent = re.sub('......。。... ','......。。... /',sent1)\r\n",
    "          spec_sent = re.sub('!!!!!!!','!!!!!!!/',spec_sent) \r\n",
    "        elif '”“' in sent1:\r\n",
    "          spec_sent = re.sub('”“','”/“',sent1)\r\n",
    "        elif '\" ' in sent1:\r\n",
    "          spec_sent = re.sub('\" ','\"/',sent1)\r\n",
    "        spec_sent = re.split('/',spec_sent)\r\n",
    "        sent_list.append(spec_sent)\r\n",
    "    for sent2 in norm_input:\r\n",
    "        norm_sent = re.findall(zh.sentence,sent2)\r\n",
    "        sent_list.append(norm_sent)\r\n",
    "    return sent_list"
   ]
  },
  {
   "cell_type": "code",
   "execution_count": 36,
   "metadata": {
    "colab": {
     "base_uri": "https://localhost:8080/"
    },
    "id": "s6t9GVSxU0dF",
    "outputId": "1826e219-7bc4-4fac-90ac-1d2d2b967b87"
   },
   "outputs": [
    {
     "name": "stdout",
     "output_type": "stream",
     "text": [
      "output: [['在很久很久以前......。。... ', '有座⼭，⼭⾥有座庙啊!!!!!!!', '庙⾥竟然有个⽼和尚！？。。。。'], ['“我和你讨论的不是⼀个东⻄，死亡率与死亡⽐例是不同的”', '“你知道么？CNN你们总是制造假新闻。。。”'], ['\"我和你讨论的不是⼀个东⻄，死亡率与死亡⽐例是不同的\"', '“你知道么？CNN你们总是制造假新闻。。。”'], ['我买了一辆超大的卡车，非常好看。', '下次带你出去玩。'], ['轻轻地我走了，正如我轻轻地来！', '我挥一挥衣袖，不带走一片云彩。']]\n"
     ]
    }
   ],
   "source": [
    "if __name__ == '__main__':\r\n",
    "    spec_input=['在很久很久以前......。。... 有座⼭，⼭⾥有座庙啊!!!!!!!庙⾥竟然有个⽼和尚！？。。。。',\r\n",
    "           '“我和你讨论的不是⼀个东⻄，死亡率与死亡⽐例是不同的”“你知道么？CNN你们总是制造假新闻。。。”',\r\n",
    "           '\"我和你讨论的不是⼀个东⻄，死亡率与死亡⽐例是不同的\" “你知道么？CNN你们总是制造假新闻。。。”'\r\n",
    "           ]\r\n",
    "    norm_input = ['我买了一辆超大的卡车，非常好看。下次带你出去玩。','轻轻地我走了，正如我轻轻地来！我挥一挥衣袖，不带走一片云彩。']\r\n",
    " \r\n",
    "\r\n",
    "    output = sentence_slice(spec_input,norm_input)\r\n",
    "    print('output:',output,)"
   ]
  }
 ],
 "metadata": {
  "colab": {
   "name": "3-1 切句问题.ipynb",
   "provenance": []
  },
  "kernelspec": {
   "name": "python3",
   "display_name": "Python 3"
  }
 },
 "nbformat": 4,
 "nbformat_minor": 0
}
