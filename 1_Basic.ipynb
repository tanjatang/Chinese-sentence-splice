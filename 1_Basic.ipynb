{
  "nbformat": 4,
  "nbformat_minor": 0,
  "metadata": {
    "colab": {
      "name": "1.Basic.ipynb",
      "provenance": []
    },
    "kernelspec": {
      "name": "python3",
      "display_name": "Python 3"
    }
  },
  "cells": [
    {
      "cell_type": "markdown",
      "metadata": {
        "id": "H0iOJT8bnhgI"
      },
      "source": [
        "1-1 链表和⼆叉树"
      ]
    },
    {
      "cell_type": "code",
      "metadata": {
        "id": "aCSu8a9pZ5QE"
      },
      "source": [
        "\r\n",
        "\r\n",
        "# define a Node\r\n",
        "class Node:\r\n",
        "    def __init__(self, val, left=None, right=None):\r\n",
        "        self.val = val\r\n",
        "        self.left = left\r\n",
        "        self.right = right\r\n",
        "\r\n",
        "class Solution:\r\n",
        "    def treeToDoublyList(self, root: 'Node') -> 'Node':\r\n",
        "        \r\n",
        "        def dfs(cur):\r\n",
        "            if not cur: return\r\n",
        "            dfs(cur.left) \r\n",
        "            if self.pre: \r\n",
        "                self.pre.right, cur.left = cur, self.pre\r\n",
        "            else: \r\n",
        "                self.head = cur\r\n",
        "            self.pre = cur \r\n",
        "            dfs(cur.right) \r\n",
        "        \r\n",
        "        if not root: return\r\n",
        "        self.pre = None\r\n",
        "        dfs(root)\r\n",
        "        self.head.left, self.pre.right = self.pre, self.head\r\n",
        "        return self.head"
      ],
      "execution_count": 53,
      "outputs": []
    },
    {
      "cell_type": "code",
      "metadata": {
        "id": "DgpbMQ2_miA8"
      },
      "source": [
        ""
      ],
      "execution_count": 20,
      "outputs": []
    },
    {
      "cell_type": "code",
      "metadata": {
        "colab": {
          "base_uri": "https://localhost:8080/"
        },
        "id": "ho3gsMDdmtOY",
        "outputId": "fab36e72-085f-47a1-df7d-b3a9b1bb4089"
      },
      "source": [
        "if __name__ == '__main__':\r\n",
        "  root = Node(9)\r\n",
        "  root.left = Node(7)\r\n",
        "  root.right = Node(5)\r\n",
        "  root.left.left = Node(2)\r\n",
        "  root.left.right = Node(6)\r\n",
        "  solution = Solution()\r\n",
        "  head = solution.treeToDoublyList(root)\r\n",
        "  i = 0\r\n",
        "  while(head)and i<5:\r\n",
        "    print(head.val)\r\n",
        "    head = head.right\r\n",
        "    i+=1"
      ],
      "execution_count": 56,
      "outputs": [
        {
          "output_type": "stream",
          "text": [
            "2\n",
            "7\n",
            "6\n",
            "9\n",
            "5\n"
          ],
          "name": "stdout"
        }
      ]
    },
    {
      "cell_type": "markdown",
      "metadata": {
        "id": "AiQdYC-CnSgy"
      },
      "source": [
        "1-2 相似字符串"
      ]
    },
    {
      "cell_type": "code",
      "metadata": {
        "colab": {
          "base_uri": "https://localhost:8080/"
        },
        "id": "CJMRLEuEmuKw",
        "outputId": "bfd7422f-87b2-4ff8-cce5-3e79d76e2c13"
      },
      "source": [
        "A = \"abacaaacaaaabaadaadad\"\r\n",
        "B =  \"bacaaaacbaaaaaadaadda\"\r\n",
        "A = list(A)\r\n",
        "B = list(B)\r\n",
        "length = len(A)\r\n",
        "i = 0\r\n",
        "count = 0\r\n",
        "while(i<length):\r\n",
        "    if A[i] == B[i]:\r\n",
        "        pass\r\n",
        "    else:\r\n",
        "        for j in range(i,length):\r\n",
        "            if B[i] != A[j]:\r\n",
        "                count += 1\r\n",
        "            else:\r\n",
        "                break\r\n",
        "        tmp = A.pop(j)\r\n",
        "        A.insert(i,tmp)\r\n",
        "    i += 1\r\n",
        "print(A)\r\n",
        "print(count)\r\n"
      ],
      "execution_count": 15,
      "outputs": [
        {
          "output_type": "stream",
          "text": [
            "['b', 'a', 'c', 'a', 'a', 'a', 'a', 'c', 'b', 'a', 'a', 'a', 'a', 'a', 'a', 'd', 'a', 'a', 'd', 'd', 'a']\n",
            "7\n"
          ],
          "name": "stdout"
        }
      ]
    }
  ]
}